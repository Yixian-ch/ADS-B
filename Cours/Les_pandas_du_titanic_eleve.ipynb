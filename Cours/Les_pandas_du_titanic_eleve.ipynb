{
  "nbformat": 4,
  "nbformat_minor": 0,
  "metadata": {
    "colab": {
      "provenance": [],
      "include_colab_link": true
    },
    "kernelspec": {
      "name": "python3",
      "display_name": "Python 3"
    },
    "language_info": {
      "name": "python"
    }
  },
  "cells": [
    {
      "cell_type": "markdown",
      "metadata": {
        "id": "view-in-github",
        "colab_type": "text"
      },
      "source": [
        "<a href=\"https://colab.research.google.com/github/Yixian-ch/ADS-B/blob/main/Cours/Les_pandas_du_titanic_eleve.ipynb\" target=\"_parent\"><img src=\"https://colab.research.google.com/assets/colab-badge.svg\" alt=\"Open In Colab\"/></a>"
      ]
    },
    {
      "cell_type": "markdown",
      "source": [
        "# Exercice sur Pandas : analysons un grand classique parmi les datasets : les victimes du Titanic\n",
        "\n",
        "Le dataset peut être trouvé https://github.com/datasciencedojo/datasets/blob/master/titanic.csv"
      ],
      "metadata": {
        "id": "TD2p0ib2oIlC"
      }
    },
    {
      "cell_type": "markdown",
      "source": [
        "1) Chargez le dataset"
      ],
      "metadata": {
        "id": "nk9_8tgZo4RO"
      }
    },
    {
      "cell_type": "code",
      "source": [
        "import pandas as pd\n",
        "data = pd.read_csv(\"sample_data/titanic.csv\")"
      ],
      "metadata": {
        "id": "cuIktBRxMFVZ"
      },
      "execution_count": 7,
      "outputs": []
    },
    {
      "cell_type": "markdown",
      "source": [
        "2) Afficher des infos élémentaires sur le dataset"
      ],
      "metadata": {
        "id": "9W0QElC1pIyB"
      }
    },
    {
      "cell_type": "code",
      "source": [
        "data.info()"
      ],
      "metadata": {
        "colab": {
          "base_uri": "https://localhost:8080/"
        },
        "id": "i5BAQeMSMNVy",
        "outputId": "4c7256b2-cb48-42fb-ac49-ab55f92486d8"
      },
      "execution_count": 8,
      "outputs": [
        {
          "output_type": "stream",
          "name": "stdout",
          "text": [
            "<class 'pandas.core.frame.DataFrame'>\n",
            "RangeIndex: 891 entries, 0 to 890\n",
            "Data columns (total 12 columns):\n",
            " #   Column       Non-Null Count  Dtype  \n",
            "---  ------       --------------  -----  \n",
            " 0   PassengerId  891 non-null    int64  \n",
            " 1   Survived     891 non-null    int64  \n",
            " 2   Pclass       891 non-null    int64  \n",
            " 3   Name         891 non-null    object \n",
            " 4   Sex          891 non-null    object \n",
            " 5   Age          714 non-null    float64\n",
            " 6   SibSp        891 non-null    int64  \n",
            " 7   Parch        891 non-null    int64  \n",
            " 8   Ticket       891 non-null    object \n",
            " 9   Fare         891 non-null    float64\n",
            " 10  Cabin        204 non-null    object \n",
            " 11  Embarked     889 non-null    object \n",
            "dtypes: float64(2), int64(5), object(5)\n",
            "memory usage: 83.7+ KB\n"
          ]
        }
      ]
    },
    {
      "cell_type": "markdown",
      "source": [
        "3) Combien de passagers ont survécu ? combien sont morts ? Donnez la réponse en pourcentage aussi."
      ],
      "metadata": {
        "id": "eSMHQcSkpYLW"
      }
    },
    {
      "cell_type": "code",
      "source": [
        "survu = data[data[\"Survived\"]==1]\n",
        "print(len(survu),len(data)-len(survu))"
      ],
      "metadata": {
        "colab": {
          "base_uri": "https://localhost:8080/"
        },
        "id": "I6CGPFo-MQLU",
        "outputId": "ac4a2fec-2613-4c57-9196-5a9cea7df241"
      },
      "execution_count": 9,
      "outputs": [
        {
          "output_type": "stream",
          "name": "stdout",
          "text": [
            "342 549\n"
          ]
        }
      ]
    },
    {
      "cell_type": "markdown",
      "source": [
        "4) Quel était l'âge moyen des passagers ?"
      ],
      "metadata": {
        "id": "kdT499-5psFc"
      }
    },
    {
      "cell_type": "code",
      "source": [
        "print(data['Age'].mean())"
      ],
      "metadata": {
        "colab": {
          "base_uri": "https://localhost:8080/"
        },
        "id": "MO3Boy47N0s0",
        "outputId": "b03c29bc-c624-42c4-d93e-1b7fa67b55fc"
      },
      "execution_count": 10,
      "outputs": [
        {
          "output_type": "stream",
          "name": "stdout",
          "text": [
            "29.69911764705882\n"
          ]
        }
      ]
    },
    {
      "cell_type": "markdown",
      "source": [
        "5) Listez les passagers qui ont payé le tarif le plus élevé"
      ],
      "metadata": {
        "id": "DUxOwr4UpxBa"
      }
    },
    {
      "cell_type": "code",
      "source": [
        "print(data.sort_values(by=\"Pclass\")[:5])"
      ],
      "metadata": {
        "colab": {
          "base_uri": "https://localhost:8080/"
        },
        "id": "68WpluVfN5q8",
        "outputId": "1bf424d0-46e8-4ce8-b418-308f2ee0576c"
      },
      "execution_count": 11,
      "outputs": [
        {
          "output_type": "stream",
          "name": "stdout",
          "text": [
            "     PassengerId  Survived  Pclass  \\\n",
            "857          858         1       1   \n",
            "862          863         1       1   \n",
            "867          868         0       1   \n",
            "52            53         1       1   \n",
            "839          840         1       1   \n",
            "\n",
            "                                                  Name     Sex   Age  SibSp  \\\n",
            "857                             Daly, Mr. Peter Denis     male  51.0      0   \n",
            "862  Swift, Mrs. Frederick Joel (Margaret Welles Ba...  female  48.0      0   \n",
            "867               Roebling, Mr. Washington Augustus II    male  31.0      0   \n",
            "52            Harper, Mrs. Henry Sleeper (Myna Haxtun)  female  49.0      1   \n",
            "839                               Marechal, Mr. Pierre    male   NaN      0   \n",
            "\n",
            "     Parch    Ticket     Fare Cabin Embarked  \n",
            "857      0    113055  26.5500   E17        S  \n",
            "862      0     17466  25.9292   D17        S  \n",
            "867      0  PC 17590  50.4958   A24        S  \n",
            "52       0  PC 17572  76.7292   D33        C  \n",
            "839      0     11774  29.7000   C47        C  \n"
          ]
        }
      ]
    },
    {
      "cell_type": "markdown",
      "source": [
        "6) Dessinez un pie chart représentant le genre des passager"
      ],
      "metadata": {
        "id": "yYw85ko_p5V0"
      }
    },
    {
      "cell_type": "code",
      "source": [
        "import matplotlib.pyplot as plt\n",
        "mans = len(data[data[\"Sex\"]==\"male\"])\n",
        "women = len(data) - mans\n",
        "\n",
        "plt.pie([mans,women],labels=[\"men\",\"women\"])"
      ],
      "metadata": {
        "colab": {
          "base_uri": "https://localhost:8080/",
          "height": 475
        },
        "id": "l3QTD3s8OvvY",
        "outputId": "c3eaf465-5988-49ee-cb18-d2c08b177228"
      },
      "execution_count": 12,
      "outputs": [
        {
          "output_type": "execute_result",
          "data": {
            "text/plain": [
              "([<matplotlib.patches.Wedge at 0x7e7897fc6f60>,\n",
              "  <matplotlib.patches.Wedge at 0x7e789e651550>],\n",
              " [Text(-0.4919454315896098, 0.9838646717603559, 'men'),\n",
              "  Text(0.49194551760179267, -0.9838646287531149, 'women')])"
            ]
          },
          "metadata": {},
          "execution_count": 12
        },
        {
          "output_type": "display_data",
          "data": {
            "text/plain": [
              "<Figure size 640x480 with 1 Axes>"
            ],
            "image/png": "[encoded data removed]"
          },
          "metadata": {}
        }
      ]
    },
    {
      "cell_type": "markdown",
      "source": [
        "7) Calculer le taux de survie par genre"
      ],
      "metadata": {
        "id": "13d4MKqeqJf9"
      }
    },
    {
      "cell_type": "code",
      "source": [
        "print(f\"men survival rate: {mans/len(data)},women:{1-mans/len(data)}\")"
      ],
      "metadata": {
        "id": "8h9qyIWcQIaX",
        "outputId": "0959741b-791a-45d2-c2ef-cd03f975d68e",
        "colab": {
          "base_uri": "https://localhost:8080/"
        }
      },
      "execution_count": 13,
      "outputs": [
        {
          "output_type": "stream",
          "name": "stdout",
          "text": [
            "men survival rate: 0.6475869809203143,women:0.3524130190796857\n"
          ]
        }
      ]
    },
    {
      "cell_type": "markdown",
      "source": [
        "8) Trouver la répartition des classes des passagers"
      ],
      "metadata": {
        "id": "ompX1wC8qPit"
      }
    },
    {
      "cell_type": "code",
      "source": [
        "c1 = len(data[data[\"Pclass\"]==1])\n",
        "c2 = len(data[data[\"Pclass\"]==2])\n",
        "c3 = len(data[data[\"Pclass\"]==3])\n",
        "\n",
        "print(c1,c2,c3,c1+c2+c3 == len(data))"
      ],
      "metadata": {
        "id": "VjTMl5RMfoJy",
        "outputId": "abb27506-e9d6-4aeb-e86f-ba686842c431",
        "colab": {
          "base_uri": "https://localhost:8080/"
        }
      },
      "execution_count": 14,
      "outputs": [
        {
          "output_type": "stream",
          "name": "stdout",
          "text": [
            "216 184 491 True\n"
          ]
        }
      ]
    },
    {
      "cell_type": "markdown",
      "source": [
        "9)Calculer le taux de survie par classe"
      ],
      "metadata": {
        "id": "-vL-Fdg3qUmQ"
      }
    },
    {
      "cell_type": "code",
      "source": [
        "c1_survive = len(data[(data[\"Pclass\"]==1)  & (data[\"Survived\"]==1)])\n",
        "c2_survive = len(data[(data[\"Pclass\"]==2)  & (data[\"Survived\"]==1)])\n",
        "c3_survive = len(data[(data[\"Pclass\"]==3)  & (data[\"Survived\"]==1)])\n",
        "\n",
        "clas = [\"1\",\"2\",\"3\"]\n",
        "survive = [c1_survive,c2_survive,c3_survive]\n",
        "dead = [c1-c1_survive,c2-c2_survive,c3-c3_survive]\n",
        "\n",
        "plt.bar(clas,survive,label=\"survive\",color=\"yellow\")\n",
        "plt.bar(clas,dead,bottom=survive,label=\"dead\")\n"
      ],
      "metadata": {
        "id": "_6xD7VE0gC9a",
        "outputId": "743d4577-f879-42cb-ae46-eb9e8e789ab2",
        "colab": {
          "base_uri": "https://localhost:8080/",
          "height": 447
        }
      },
      "execution_count": 22,
      "outputs": [
        {
          "output_type": "execute_result",
          "data": {
            "text/plain": [
              "<BarContainer object of 3 artists>"
            ]
          },
          "metadata": {},
          "execution_count": 22
        },
        {
          "output_type": "display_data",
          "data": {
            "text/plain": [
              "<Figure size 640x480 with 1 Axes>"
            ],
            "image/png": "[encoded data removed]"
          },
          "metadata": {}
        }
      ]
    },
    {
      "cell_type": "markdown",
      "source": [
        "10) quels étaient les 10 prénoms masculins et les 10 prénoms féminins les plus fréquents ?"
      ],
      "metadata": {
        "id": "A7miF93Hqhc1"
      }
    }
  ]
}